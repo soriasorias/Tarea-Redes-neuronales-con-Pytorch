{
 "cells": [
  {
   "cell_type": "code",
   "execution_count": 1,
   "metadata": {},
   "outputs": [
    {
     "name": "stdout",
     "output_type": "stream",
     "text": [
      "Files already downloaded and verified\n",
      "Files already downloaded and verified\n"
     ]
    }
   ],
   "source": [
    "from torchvision import datasets\n",
    "data_path = '../data-unversioned/p1ch7/'\n",
    "cifar10 = datasets.CIFAR10(data_path, train=True, download=True)\n",
    "cifar10_val = datasets.CIFAR10(data_path, train=False, download=True)"
   ]
  },
  {
   "cell_type": "code",
   "execution_count": 10,
   "metadata": {},
   "outputs": [],
   "source": [
    "from matplotlib import pyplot as plt"
   ]
  },
  {
   "cell_type": "code",
   "execution_count": 11,
   "metadata": {},
   "outputs": [
    {
     "data": {
      "text/plain": [
       "(torchvision.datasets.cifar.CIFAR10,\n",
       " torchvision.datasets.vision.VisionDataset,\n",
       " torch.utils.data.dataset.Dataset,\n",
       " typing.Generic,\n",
       " object)"
      ]
     },
     "execution_count": 11,
     "metadata": {},
     "output_type": "execute_result"
    }
   ],
   "source": [
    "type(cifar10).__mro__"
   ]
  },
  {
   "cell_type": "code",
   "execution_count": 12,
   "metadata": {},
   "outputs": [
    {
     "data": {
      "text/plain": [
       "50000"
      ]
     },
     "execution_count": 12,
     "metadata": {},
     "output_type": "execute_result"
    }
   ],
   "source": [
    "len(cifar10)"
   ]
  },
  {
   "cell_type": "code",
   "execution_count": 13,
   "metadata": {},
   "outputs": [
    {
     "data": {
      "image/png": "[encoded data removed]",
      "text/plain": [
       "<Figure size 640x480 with 1 Axes>"
      ]
     },
     "metadata": {},
     "output_type": "display_data"
    }
   ],
   "source": [
    "plt.imshow(img)\n",
    "plt.show()"
   ]
  },
  {
   "cell_type": "code",
   "execution_count": 14,
   "metadata": {},
   "outputs": [
    {
     "data": {
      "text/plain": [
       "['AugMix',\n",
       " 'AutoAugment',\n",
       " 'AutoAugmentPolicy',\n",
       " 'CenterCrop',\n",
       " 'ColorJitter',\n",
       " 'Compose',\n",
       " 'ConvertImageDtype',\n",
       " 'ElasticTransform',\n",
       " 'FiveCrop',\n",
       " 'GaussianBlur',\n",
       " 'Grayscale',\n",
       " 'InterpolationMode',\n",
       " 'Lambda',\n",
       " 'LinearTransformation',\n",
       " 'Normalize',\n",
       " 'PILToTensor',\n",
       " 'Pad',\n",
       " 'RandAugment',\n",
       " 'RandomAdjustSharpness',\n",
       " 'RandomAffine',\n",
       " 'RandomApply',\n",
       " 'RandomAutocontrast',\n",
       " 'RandomChoice',\n",
       " 'RandomCrop',\n",
       " 'RandomEqualize',\n",
       " 'RandomErasing',\n",
       " 'RandomGrayscale',\n",
       " 'RandomHorizontalFlip',\n",
       " 'RandomInvert',\n",
       " 'RandomOrder',\n",
       " 'RandomPerspective',\n",
       " 'RandomPosterize',\n",
       " 'RandomResizedCrop',\n",
       " 'RandomRotation',\n",
       " 'RandomSolarize',\n",
       " 'RandomVerticalFlip',\n",
       " 'Resize',\n",
       " 'TenCrop',\n",
       " 'ToPILImage',\n",
       " 'ToTensor',\n",
       " 'TrivialAugmentWide',\n",
       " '__builtins__',\n",
       " '__cached__',\n",
       " '__doc__',\n",
       " '__file__',\n",
       " '__loader__',\n",
       " '__name__',\n",
       " '__package__',\n",
       " '__path__',\n",
       " '__spec__',\n",
       " '_functional_pil',\n",
       " '_functional_tensor',\n",
       " '_presets',\n",
       " 'autoaugment',\n",
       " 'functional',\n",
       " 'transforms']"
      ]
     },
     "execution_count": 14,
     "metadata": {},
     "output_type": "execute_result"
    }
   ],
   "source": [
    "from torchvision import transforms\n",
    "dir(transforms)"
   ]
  },
  {
   "cell_type": "code",
   "execution_count": 15,
   "metadata": {},
   "outputs": [
    {
     "data": {
      "text/plain": [
       "torch.Size([3, 32, 32])"
      ]
     },
     "execution_count": 15,
     "metadata": {},
     "output_type": "execute_result"
    }
   ],
   "source": [
    "from torchvision import transforms \n",
    "to_tensor = transforms.ToTensor()\n",
    "img_t = to_tensor(img)\n",
    "img_t.shape"
   ]
  },
  {
   "cell_type": "code",
   "execution_count": 16,
   "metadata": {},
   "outputs": [],
   "source": [
    "tensor_cifar10 = datasets.CIFAR10(data_path, train=True, download=False,\n",
    "transform=transforms.ToTensor())"
   ]
  },
  {
   "cell_type": "code",
   "execution_count": 17,
   "metadata": {},
   "outputs": [
    {
     "data": {
      "text/plain": [
       "torch.Tensor"
      ]
     },
     "execution_count": 17,
     "metadata": {},
     "output_type": "execute_result"
    }
   ],
   "source": [
    "img_t, _ = tensor_cifar10[99]\n",
    "type(img_t)"
   ]
  },
  {
   "cell_type": "code",
   "execution_count": 18,
   "metadata": {},
   "outputs": [
    {
     "data": {
      "text/plain": [
       "(torch.Size([3, 32, 32]), torch.float32)"
      ]
     },
     "execution_count": 18,
     "metadata": {},
     "output_type": "execute_result"
    }
   ],
   "source": [
    "img_t.shape, img_t.dtype"
   ]
  },
  {
   "cell_type": "code",
   "execution_count": 19,
   "metadata": {},
   "outputs": [
    {
     "data": {
      "text/plain": [
       "(tensor(0.), tensor(1.))"
      ]
     },
     "execution_count": 19,
     "metadata": {},
     "output_type": "execute_result"
    }
   ],
   "source": [
    "img_t.min(), img_t.max()"
   ]
  },
  {
   "cell_type": "code",
   "execution_count": 20,
   "metadata": {},
   "outputs": [
    {
     "data": {
      "image/png": "[encoded data removed]",
      "text/plain": [
       "<Figure size 640x480 with 1 Axes>"
      ]
     },
     "metadata": {},
     "output_type": "display_data"
    }
   ],
   "source": [
    "plt.imshow(img_t.permute(1, 2, 0))\n",
    "plt.show()"
   ]
  },
  {
   "cell_type": "code",
   "execution_count": 22,
   "metadata": {},
   "outputs": [],
   "source": [
    "import torch"
   ]
  },
  {
   "cell_type": "code",
   "execution_count": 23,
   "metadata": {},
   "outputs": [
    {
     "data": {
      "text/plain": [
       "torch.Size([3, 32, 32, 50000])"
      ]
     },
     "execution_count": 23,
     "metadata": {},
     "output_type": "execute_result"
    }
   ],
   "source": [
    "imgs = torch.stack([img_t for img_t, _ in tensor_cifar10], dim=3)\n",
    "imgs.shape"
   ]
  },
  {
   "cell_type": "code",
   "execution_count": 24,
   "metadata": {},
   "outputs": [
    {
     "data": {
      "text/plain": [
       "tensor([0.4914, 0.4822, 0.4465])"
      ]
     },
     "execution_count": 24,
     "metadata": {},
     "output_type": "execute_result"
    }
   ],
   "source": [
    "imgs.view(3, -1).mean(dim=1)"
   ]
  },
  {
   "cell_type": "code",
   "execution_count": 25,
   "metadata": {},
   "outputs": [
    {
     "data": {
      "text/plain": [
       "tensor([0.2470, 0.2435, 0.2616])"
      ]
     },
     "execution_count": 25,
     "metadata": {},
     "output_type": "execute_result"
    }
   ],
   "source": [
    "imgs.view(3, -1).std(dim=1)"
   ]
  },
  {
   "cell_type": "code",
   "execution_count": 26,
   "metadata": {},
   "outputs": [
    {
     "data": {
      "text/plain": [
       "Normalize(mean=(0.4915, 0.4823, 0.4468), std=(0.247, 0.2435, 0.2616))"
      ]
     },
     "execution_count": 26,
     "metadata": {},
     "output_type": "execute_result"
    }
   ],
   "source": [
    "transforms.Normalize((0.4915, 0.4823, 0.4468), (0.2470, 0.2435, 0.2616))"
   ]
  },
  {
   "cell_type": "code",
   "execution_count": 27,
   "metadata": {},
   "outputs": [],
   "source": [
    "transformed_cifar10 = datasets.CIFAR10(\n",
    "data_path, train=True, download=False,\n",
    "transform=transforms.Compose([\n",
    "transforms.ToTensor(),\n",
    "transforms.Normalize((0.4915, 0.4823, 0.4468),\n",
    "(0.2470, 0.2435, 0.2616))]))"
   ]
  },
  {
   "cell_type": "code",
   "execution_count": 28,
   "metadata": {},
   "outputs": [
    {
     "name": "stderr",
     "output_type": "stream",
     "text": [
      "Clipping input data to the valid range for imshow with RGB data ([0..1] for floats or [0..255] for integers). Got range [-1.9806982..2.126078].\n"
     ]
    },
    {
     "data": {
      "image/png": "[encoded data removed]",
      "text/plain": [
       "<Figure size 640x480 with 1 Axes>"
      ]
     },
     "metadata": {},
     "output_type": "display_data"
    }
   ],
   "source": [
    "img_t, _ = transformed_cifar10[99]\n",
    "plt.imshow(img_t.permute(1, 2, 0))\n",
    "plt.show()"
   ]
  },
  {
   "cell_type": "code",
   "execution_count": 29,
   "metadata": {},
   "outputs": [],
   "source": [
    "label_map = {0: 0, 2: 1}\n",
    "class_names = ['airplane', 'bird']\n",
    "cifar2 = [(img, label_map[label])\n",
    "for img, label in cifar10\n",
    "if label in [0, 2]]\n",
    "cifar2_val = [(img, label_map[label])\n",
    "for img, label in cifar10_val\n",
    "if label in [0, 2]]"
   ]
  },
  {
   "cell_type": "code",
   "execution_count": 30,
   "metadata": {},
   "outputs": [],
   "source": [
    "import torch.nn as nn\n",
    "n_out = 2\n",
    "model = nn.Sequential(nn.Linear(3072,512,),nn.Tanh(),nn.Linear(512,n_out,))"
   ]
  },
  {
   "cell_type": "code",
   "execution_count": 32,
   "metadata": {},
   "outputs": [],
   "source": [
    "def softmax(x):\n",
    "    return torch.exp(x) / torch.exp(x).sum()"
   ]
  },
  {
   "cell_type": "code",
   "execution_count": 34,
   "metadata": {},
   "outputs": [
    {
     "data": {
      "text/plain": [
       "tensor([0.0900, 0.2447, 0.6652])"
      ]
     },
     "execution_count": 34,
     "metadata": {},
     "output_type": "execute_result"
    }
   ],
   "source": [
    "x = torch.tensor([1.0, 2.0, 3.0])\n",
    "softmax(x)"
   ]
  },
  {
   "cell_type": "code",
   "execution_count": 35,
   "metadata": {},
   "outputs": [
    {
     "data": {
      "text/plain": [
       "tensor(1.)"
      ]
     },
     "execution_count": 35,
     "metadata": {},
     "output_type": "execute_result"
    }
   ],
   "source": [
    "softmax(x).sum()"
   ]
  },
  {
   "cell_type": "code",
   "execution_count": 36,
   "metadata": {},
   "outputs": [
    {
     "data": {
      "text/plain": [
       "tensor([[0.0900, 0.2447, 0.6652],\n",
       "        [0.0900, 0.2447, 0.6652]])"
      ]
     },
     "execution_count": 36,
     "metadata": {},
     "output_type": "execute_result"
    }
   ],
   "source": [
    "softmax = nn.Softmax(dim=1)\n",
    "x = torch.tensor([[1.0, 2.0, 3.0],\n",
    "[1.0, 2.0, 3.0]])\n",
    "softmax(x)"
   ]
  },
  {
   "cell_type": "code",
   "execution_count": 37,
   "metadata": {},
   "outputs": [],
   "source": [
    "model = nn.Sequential(\n",
    "nn.Linear(3072, 512),\n",
    "nn.Tanh(),\n",
    "nn.Linear(512, 2),\n",
    "nn.Softmax(dim=1))"
   ]
  },
  {
   "cell_type": "code",
   "execution_count": 39,
   "metadata": {},
   "outputs": [
    {
     "data": {
      "image/png": "[encoded data removed]",
      "text/plain": [
       "<Figure size 640x480 with 1 Axes>"
      ]
     },
     "metadata": {},
     "output_type": "display_data"
    }
   ],
   "source": [
    "import torchvision.transforms as transforms\n",
    "import matplotlib.pyplot as plt\n",
    "\n",
    "# Convertir la imagen de PIL a un tensor\n",
    "img, _ = cifar2[0]\n",
    "img_tensor = transforms.ToTensor()(img)\n",
    "\n",
    "# Usar permute para cambiar las dimensiones del tensor\n",
    "plt.imshow(img_tensor.permute(1, 2, 0))\n",
    "plt.show()"
   ]
  },
  {
   "cell_type": "code",
   "execution_count": 41,
   "metadata": {},
   "outputs": [],
   "source": [
    "# Convertir la imagen PIL a un tensor\n",
    "img_tensor = transforms.ToTensor()(img)\n",
    "\n",
    "# Ajustar las dimensiones del tensor\n",
    "img_batch = img_tensor.view(-1).unsqueeze(0)"
   ]
  },
  {
   "cell_type": "code",
   "execution_count": 42,
   "metadata": {},
   "outputs": [
    {
     "data": {
      "text/plain": [
       "tensor([[0.4404, 0.5596]], grad_fn=<SoftmaxBackward0>)"
      ]
     },
     "execution_count": 42,
     "metadata": {},
     "output_type": "execute_result"
    }
   ],
   "source": [
    "out = model(img_batch)\n",
    "out"
   ]
  },
  {
   "cell_type": "code",
   "execution_count": 43,
   "metadata": {},
   "outputs": [
    {
     "data": {
      "text/plain": [
       "tensor([1])"
      ]
     },
     "execution_count": 43,
     "metadata": {},
     "output_type": "execute_result"
    }
   ],
   "source": [
    "_, index = torch.max(out, dim=1)\n",
    "index"
   ]
  },
  {
   "cell_type": "code",
   "execution_count": 44,
   "metadata": {},
   "outputs": [],
   "source": [
    "model = nn.Sequential(\n",
    "nn.Linear(3072, 512),\n",
    "nn.Tanh(),\n",
    "nn.Linear(512, 2),\n",
    "nn.LogSoftmax(dim=1))"
   ]
  },
  {
   "cell_type": "code",
   "execution_count": 45,
   "metadata": {},
   "outputs": [],
   "source": [
    "loss = nn.NLLLoss()"
   ]
  },
  {
   "cell_type": "code",
   "execution_count": 49,
   "metadata": {},
   "outputs": [
    {
     "name": "stdout",
     "output_type": "stream",
     "text": [
      "Epoch: 0, Loss: 1.167313\n",
      "Epoch: 1, Loss: 1.595991\n",
      "Epoch: 2, Loss: 1.892263\n",
      "Epoch: 3, Loss: 2.588190\n",
      "Epoch: 4, Loss: 2.520221\n",
      "Epoch: 5, Loss: 2.779908\n",
      "Epoch: 6, Loss: 3.325322\n",
      "Epoch: 7, Loss: 3.499394\n",
      "Epoch: 8, Loss: 4.457149\n",
      "Epoch: 9, Loss: 5.169694\n",
      "Epoch: 10, Loss: 5.515480\n",
      "Epoch: 11, Loss: 5.200143\n",
      "Epoch: 12, Loss: 6.269173\n",
      "Epoch: 13, Loss: 5.839141\n",
      "Epoch: 14, Loss: 10.243066\n",
      "Epoch: 15, Loss: 7.903912\n",
      "Epoch: 16, Loss: 8.558885\n",
      "Epoch: 17, Loss: 5.409688\n",
      "Epoch: 18, Loss: 8.879016\n",
      "Epoch: 19, Loss: 11.392681\n",
      "Epoch: 20, Loss: 3.307107\n",
      "Epoch: 21, Loss: 3.997205\n",
      "Epoch: 22, Loss: 11.239747\n",
      "Epoch: 23, Loss: 10.180034\n",
      "Epoch: 24, Loss: 6.617332\n",
      "Epoch: 25, Loss: 3.615307\n",
      "Epoch: 26, Loss: 5.664423\n",
      "Epoch: 27, Loss: 13.418979\n",
      "Epoch: 28, Loss: 5.529212\n",
      "Epoch: 29, Loss: 3.368875\n",
      "Epoch: 30, Loss: 4.468573\n",
      "Epoch: 31, Loss: 6.459713\n",
      "Epoch: 32, Loss: 12.872392\n",
      "Epoch: 33, Loss: 12.546602\n",
      "Epoch: 34, Loss: 4.125633\n",
      "Epoch: 35, Loss: 3.583942\n",
      "Epoch: 36, Loss: 3.636808\n",
      "Epoch: 37, Loss: 16.043144\n",
      "Epoch: 38, Loss: 13.909238\n",
      "Epoch: 39, Loss: 11.776176\n",
      "Epoch: 40, Loss: 13.001177\n",
      "Epoch: 41, Loss: 3.627921\n",
      "Epoch: 42, Loss: 5.495018\n",
      "Epoch: 43, Loss: 4.557473\n",
      "Epoch: 44, Loss: 4.150055\n",
      "Epoch: 45, Loss: 10.715461\n",
      "Epoch: 46, Loss: 12.417358\n",
      "Epoch: 47, Loss: 10.728751\n",
      "Epoch: 48, Loss: 9.777184\n",
      "Epoch: 49, Loss: 11.909501\n",
      "Epoch: 50, Loss: 9.448113\n",
      "Epoch: 51, Loss: 10.718998\n",
      "Epoch: 52, Loss: 3.320794\n",
      "Epoch: 53, Loss: 3.335193\n",
      "Epoch: 54, Loss: 11.019262\n",
      "Epoch: 55, Loss: 5.171866\n",
      "Epoch: 56, Loss: 3.336449\n",
      "Epoch: 57, Loss: 3.319216\n",
      "Epoch: 58, Loss: 8.247712\n",
      "Epoch: 59, Loss: 3.863353\n",
      "Epoch: 60, Loss: 4.016840\n",
      "Epoch: 61, Loss: 10.738406\n",
      "Epoch: 62, Loss: 10.506546\n",
      "Epoch: 63, Loss: 11.345640\n",
      "Epoch: 64, Loss: 6.337834\n",
      "Epoch: 65, Loss: 5.949845\n",
      "Epoch: 66, Loss: 12.870168\n",
      "Epoch: 67, Loss: 6.513966\n",
      "Epoch: 68, Loss: 10.327429\n",
      "Epoch: 69, Loss: 10.410177\n",
      "Epoch: 70, Loss: 8.610634\n",
      "Epoch: 71, Loss: 8.972707\n",
      "Epoch: 72, Loss: 8.643811\n",
      "Epoch: 73, Loss: 2.077223\n",
      "Epoch: 74, Loss: 12.182635\n",
      "Epoch: 75, Loss: 7.683602\n",
      "Epoch: 76, Loss: 3.438815\n",
      "Epoch: 77, Loss: 11.266894\n",
      "Epoch: 78, Loss: 3.308762\n",
      "Epoch: 79, Loss: 5.000553\n",
      "Epoch: 80, Loss: 13.493615\n",
      "Epoch: 81, Loss: 4.358417\n",
      "Epoch: 82, Loss: 5.854615\n",
      "Epoch: 83, Loss: 12.761718\n",
      "Epoch: 84, Loss: 12.798074\n",
      "Epoch: 85, Loss: 12.985933\n",
      "Epoch: 86, Loss: 3.759712\n",
      "Epoch: 87, Loss: 5.345548\n",
      "Epoch: 88, Loss: 9.088716\n",
      "Epoch: 89, Loss: 3.436177\n",
      "Epoch: 90, Loss: 6.942227\n",
      "Epoch: 91, Loss: 12.596332\n",
      "Epoch: 92, Loss: 11.364199\n",
      "Epoch: 93, Loss: 11.582516\n",
      "Epoch: 94, Loss: 10.439475\n",
      "Epoch: 95, Loss: 9.192069\n",
      "Epoch: 96, Loss: 8.356073\n",
      "Epoch: 97, Loss: 4.667869\n",
      "Epoch: 98, Loss: 9.897304\n",
      "Epoch: 99, Loss: 5.297987\n"
     ]
    }
   ],
   "source": [
    "import torch\n",
    "import torch.nn as nn\n",
    "import torch.optim as optim\n",
    "model = nn.Sequential(\n",
    "nn.Linear(3072, 512),\n",
    "nn.Tanh(),\n",
    "nn.Linear(512, 2),\n",
    "nn.LogSoftmax(dim=1))\n",
    "learning_rate = 1e-2\n",
    "optimizer = optim.SGD(model.parameters(), lr=learning_rate)\n",
    "loss_fn = nn.NLLLoss()\n",
    "n_epochs = 100\n",
    "for epoch in range(n_epochs):\n",
    "    for img, label in cifar2:\n",
    "        img_tensor = transforms.ToTensor()(img)\n",
    "        out = model(img_tensor.view(-1).unsqueeze(0))\n",
    "        loss = loss_fn(out, torch.tensor([label]))\n",
    "        optimizer.zero_grad()\n",
    "        loss.backward()\n",
    "        optimizer.step()\n",
    "    print(\"Epoch: %d, Loss: %f\" % (epoch, float(loss)))"
   ]
  },
  {
   "cell_type": "code",
   "execution_count": 64,
   "metadata": {},
   "outputs": [
    {
     "name": "stdout",
     "output_type": "stream",
     "text": [
      "Files already downloaded and verified\n",
      "Epoch: 0, Loss: 0.635988\n",
      "Epoch: 1, Loss: 0.689838\n",
      "Epoch: 2, Loss: 0.590547\n",
      "Epoch: 3, Loss: 0.715875\n",
      "Epoch: 4, Loss: 0.594685\n",
      "Epoch: 5, Loss: 0.628129\n",
      "Epoch: 6, Loss: 0.673145\n",
      "Epoch: 7, Loss: 0.704807\n",
      "Epoch: 8, Loss: 0.654804\n",
      "Epoch: 9, Loss: 0.651801\n",
      "Epoch: 10, Loss: 0.683248\n",
      "Epoch: 11, Loss: 0.659740\n",
      "Epoch: 12, Loss: 0.646214\n",
      "Epoch: 13, Loss: 0.574708\n",
      "Epoch: 14, Loss: 0.666773\n",
      "Epoch: 15, Loss: 0.590226\n",
      "Epoch: 16, Loss: 0.612670\n",
      "Epoch: 17, Loss: 0.566597\n",
      "Epoch: 18, Loss: 0.681613\n",
      "Epoch: 19, Loss: 0.618099\n",
      "Epoch: 20, Loss: 0.555231\n",
      "Epoch: 21, Loss: 0.746691\n",
      "Epoch: 22, Loss: 0.638486\n",
      "Epoch: 23, Loss: 0.646224\n",
      "Epoch: 24, Loss: 0.803265\n",
      "Epoch: 25, Loss: 0.775950\n",
      "Epoch: 26, Loss: 0.563110\n",
      "Epoch: 27, Loss: 0.562675\n",
      "Epoch: 28, Loss: 0.603208\n",
      "Epoch: 29, Loss: 0.656371\n",
      "Epoch: 30, Loss: 0.701824\n",
      "Epoch: 31, Loss: 0.679992\n",
      "Epoch: 32, Loss: 0.764866\n",
      "Epoch: 33, Loss: 0.608760\n",
      "Epoch: 34, Loss: 0.663438\n",
      "Epoch: 35, Loss: 0.687133\n",
      "Epoch: 36, Loss: 0.632130\n",
      "Epoch: 37, Loss: 0.719756\n",
      "Epoch: 38, Loss: 0.683121\n",
      "Epoch: 39, Loss: 0.615413\n",
      "Epoch: 40, Loss: 0.655809\n",
      "Epoch: 41, Loss: 0.569946\n",
      "Epoch: 42, Loss: 0.566907\n",
      "Epoch: 43, Loss: 0.501538\n",
      "Epoch: 44, Loss: 0.772357\n",
      "Epoch: 45, Loss: 0.609561\n",
      "Epoch: 46, Loss: 0.588472\n",
      "Epoch: 47, Loss: 0.649496\n",
      "Epoch: 48, Loss: 0.642301\n",
      "Epoch: 49, Loss: 0.568995\n",
      "Epoch: 50, Loss: 0.451516\n",
      "Epoch: 51, Loss: 0.440304\n",
      "Epoch: 52, Loss: 0.542933\n",
      "Epoch: 53, Loss: 0.568387\n",
      "Epoch: 54, Loss: 0.687714\n",
      "Epoch: 55, Loss: 0.611259\n",
      "Epoch: 56, Loss: 0.651189\n",
      "Epoch: 57, Loss: 0.730962\n",
      "Epoch: 58, Loss: 0.745727\n",
      "Epoch: 59, Loss: 0.510375\n",
      "Epoch: 60, Loss: 0.521244\n",
      "Epoch: 61, Loss: 0.601234\n",
      "Epoch: 62, Loss: 0.657706\n",
      "Epoch: 63, Loss: 0.453877\n",
      "Epoch: 64, Loss: 0.786171\n",
      "Epoch: 65, Loss: 0.681034\n",
      "Epoch: 66, Loss: 0.529053\n",
      "Epoch: 67, Loss: 0.648991\n",
      "Epoch: 68, Loss: 0.637453\n",
      "Epoch: 69, Loss: 0.525397\n",
      "Epoch: 70, Loss: 0.757492\n",
      "Epoch: 71, Loss: 0.821441\n",
      "Epoch: 72, Loss: 0.603082\n",
      "Epoch: 73, Loss: 0.432732\n",
      "Epoch: 74, Loss: 0.623940\n",
      "Epoch: 75, Loss: 0.548343\n",
      "Epoch: 76, Loss: 0.588868\n",
      "Epoch: 77, Loss: 0.549600\n",
      "Epoch: 78, Loss: 0.755472\n",
      "Epoch: 79, Loss: 0.633957\n",
      "Epoch: 80, Loss: 0.598013\n",
      "Epoch: 81, Loss: 0.591672\n",
      "Epoch: 82, Loss: 0.528703\n",
      "Epoch: 83, Loss: 0.573104\n",
      "Epoch: 84, Loss: 0.720559\n",
      "Epoch: 85, Loss: 0.760224\n",
      "Epoch: 86, Loss: 0.714825\n",
      "Epoch: 87, Loss: 0.629533\n",
      "Epoch: 88, Loss: 0.590541\n",
      "Epoch: 89, Loss: 0.580592\n",
      "Epoch: 90, Loss: 0.507259\n",
      "Epoch: 91, Loss: 0.717631\n",
      "Epoch: 92, Loss: 0.648848\n",
      "Epoch: 93, Loss: 0.526845\n",
      "Epoch: 94, Loss: 0.657028\n",
      "Epoch: 95, Loss: 0.767020\n",
      "Epoch: 96, Loss: 0.533648\n",
      "Epoch: 97, Loss: 0.624387\n",
      "Epoch: 98, Loss: 0.636411\n",
      "Epoch: 99, Loss: 0.464189\n"
     ]
    }
   ],
   "source": [
    "import torch\n",
    "import torch.nn as nn\n",
    "import torch.optim as optim\n",
    "import torchvision.transforms as transforms\n",
    "from torch.utils.data import DataLoader, Subset\n",
    "from torchvision.datasets import CIFAR10\n",
    "\n",
    "# Definir las clases que te interesan (por ejemplo, \"gatos\" y \"perros\")\n",
    "class_names = ['cat', 'dog']\n",
    "class_map = {'cat': 3, 'dog': 5}  # CIFAR10: 3 = \"cat\", 5 = \"dog\"\n",
    "\n",
    "transform = transforms.Compose([\n",
    "    transforms.ToTensor()\n",
    "])\n",
    "\n",
    "cifar10 = CIFAR10(root='data', train=True, download=True, transform=transform)\n",
    "\n",
    "cifar2_idx = [i for i, (_, label) in enumerate(cifar10) if label == class_map['cat'] or label == class_map['dog']]\n",
    "cifar2 = Subset(cifar10, cifar2_idx)\n",
    "\n",
    "for i in range(len(cifar2)):\n",
    "    img, label = cifar2[i]\n",
    "    cifar2.dataset.targets[cifar2_idx[i]] = 0 if label == class_map['cat'] else 1\n",
    "\n",
    "train_loader = DataLoader(cifar2, batch_size=64, shuffle=True)\n",
    "\n",
    "model = nn.Sequential(\n",
    "    nn.Linear(3072, 512),\n",
    "    nn.Tanh(),\n",
    "    nn.Linear(512, 2),\n",
    "    nn.LogSoftmax(dim=1)\n",
    ")\n",
    "\n",
    "learning_rate = 1e-2\n",
    "optimizer = optim.SGD(model.parameters(), lr=learning_rate)\n",
    "loss_fn = nn.NLLLoss()\n",
    "\n",
    "n_epochs = 100\n",
    "for epoch in range(n_epochs):\n",
    "    for imgs, labels in train_loader:\n",
    "        batch_size = imgs.shape[0]\n",
    "        outputs = model(imgs.view(batch_size, -1))  # Aplanar las imágenes\n",
    "        loss = loss_fn(outputs, labels)\n",
    "        optimizer.zero_grad()\n",
    "        loss.backward()\n",
    "        optimizer.step()\n",
    "    print(f\"Epoch: {epoch}, Loss: {loss.item():.6f}\")\n",
    "\n"
   ]
  },
  {
   "cell_type": "code",
   "execution_count": 66,
   "metadata": {},
   "outputs": [
    {
     "name": "stdout",
     "output_type": "stream",
     "text": [
      "Files already downloaded and verified\n",
      "Accuracy: 0.108100\n"
     ]
    }
   ],
   "source": [
    "import torchvision.transforms as transforms\n",
    "import torch\n",
    "transform = transforms.Compose([\n",
    "    transforms.ToTensor()\n",
    "])\n",
    "cifar2_val = CIFAR10(root='data', train=False, download=True, transform=transform)\n",
    "\n",
    "val_loader = torch.utils.data.DataLoader(cifar2_val, batch_size=64, shuffle=False)\n",
    "correct = 0\n",
    "total = 0\n",
    "with torch.no_grad():\n",
    "    for imgs, labels in val_loader:\n",
    "        batch_size = imgs.shape[0]\n",
    "        outputs = model(imgs.view(batch_size, -1))  # Aplanar las imágenes\n",
    "        _, predicted = torch.max(outputs, dim=1)\n",
    "        total += labels.shape[0]\n",
    "        correct += int((predicted == labels).sum())\n",
    "\n",
    "accuracy = correct / total\n",
    "print(\"Accuracy: %f\" % accuracy)"
   ]
  },
  {
   "cell_type": "code",
   "execution_count": 67,
   "metadata": {},
   "outputs": [],
   "source": [
    "model = nn.Sequential(\n",
    "nn.Linear(3072, 1024),\n",
    "nn.Tanh(),\n",
    "nn.Linear(1024, 512),\n",
    "nn.Tanh(),\n",
    "nn.Linear(512, 128),\n",
    "nn.Tanh(),\n",
    "nn.Linear(128, 2),\n",
    "nn.LogSoftmax(dim=1))"
   ]
  },
  {
   "cell_type": "code",
   "execution_count": 68,
   "metadata": {},
   "outputs": [],
   "source": [
    "model = nn.Sequential(\n",
    "nn.Linear(3072, 1024),\n",
    "nn.Tanh(),\n",
    "nn.Linear(1024, 512),\n",
    "nn.Tanh(),\n",
    "nn.Linear(512, 128),\n",
    "nn.Tanh(),\n",
    "nn.Linear(128, 2))\n",
    "loss_fn = nn.CrossEntropyLoss()"
   ]
  },
  {
   "cell_type": "code",
   "execution_count": 69,
   "metadata": {},
   "outputs": [
    {
     "ename": "NameError",
     "evalue": "name 'connected_model' is not defined",
     "output_type": "error",
     "traceback": [
      "\u001b[1;31m---------------------------------------------------------------------------\u001b[0m",
      "\u001b[1;31mNameError\u001b[0m                                 Traceback (most recent call last)",
      "Cell \u001b[1;32mIn[69], line 2\u001b[0m\n\u001b[0;32m      1\u001b[0m numel_list \u001b[38;5;241m=\u001b[39m [p\u001b[38;5;241m.\u001b[39mnumel()\n\u001b[1;32m----> 2\u001b[0m \u001b[38;5;28;01mfor\u001b[39;00m p \u001b[38;5;129;01min\u001b[39;00m \u001b[43mconnected_model\u001b[49m\u001b[38;5;241m.\u001b[39mparameters()\n\u001b[0;32m      3\u001b[0m \u001b[38;5;28;01mif\u001b[39;00m p\u001b[38;5;241m.\u001b[39mrequires_grad \u001b[38;5;241m==\u001b[39m \u001b[38;5;28;01mTrue\u001b[39;00m]\n\u001b[0;32m      4\u001b[0m \u001b[38;5;28msum\u001b[39m(numel_list), numel_list\n",
      "\u001b[1;31mNameError\u001b[0m: name 'connected_model' is not defined"
     ]
    }
   ],
   "source": [
    "numel_list = [p.numel()\n",
    "for p in connected_model.parameters()\n",
    "if p.requires_grad == True]\n",
    "sum(numel_list), numel_list"
   ]
  },
  {
   "cell_type": "code",
   "execution_count": 56,
   "metadata": {},
   "outputs": [
    {
     "ename": "NameError",
     "evalue": "name 'first_model' is not defined",
     "output_type": "error",
     "traceback": [
      "\u001b[1;31m---------------------------------------------------------------------------\u001b[0m",
      "\u001b[1;31mNameError\u001b[0m                                 Traceback (most recent call last)",
      "Cell \u001b[1;32mIn[56], line 1\u001b[0m\n\u001b[1;32m----> 1\u001b[0m numel_list \u001b[38;5;241m=\u001b[39m [p\u001b[38;5;241m.\u001b[39mnumel() \u001b[38;5;28;01mfor\u001b[39;00m p \u001b[38;5;129;01min\u001b[39;00m \u001b[43mfirst_model\u001b[49m\u001b[38;5;241m.\u001b[39mparameters()]\n\u001b[0;32m      2\u001b[0m \u001b[38;5;28msum\u001b[39m(numel_list), numel_list\n",
      "\u001b[1;31mNameError\u001b[0m: name 'first_model' is not defined"
     ]
    }
   ],
   "source": [
    "numel_list = [p.numel() for p in first_model.parameters()]\n",
    "sum(numel_list), numel_list"
   ]
  },
  {
   "cell_type": "code",
   "execution_count": 57,
   "metadata": {},
   "outputs": [
    {
     "data": {
      "text/plain": [
       "(torch.Size([1024, 3072]), torch.Size([1024]))"
      ]
     },
     "execution_count": 57,
     "metadata": {},
     "output_type": "execute_result"
    }
   ],
   "source": [
    "linear = nn.Linear(3072, 1024)\n",
    "linear.weight.shape, linear.bias.shape"
   ]
  },
  {
   "cell_type": "code",
   "execution_count": null,
   "metadata": {},
   "outputs": [],
   "source": []
  }
 ],
 "metadata": {
  "kernelspec": {
   "display_name": "Python 3",
   "language": "python",
   "name": "python3"
  },
  "language_info": {
   "codemirror_mode": {
    "name": "ipython",
    "version": 3
   },
   "file_extension": ".py",
   "mimetype": "text/x-python",
   "name": "python",
   "nbconvert_exporter": "python",
   "pygments_lexer": "ipython3",
   "version": "3.9.0"
  }
 },
 "nbformat": 4,
 "nbformat_minor": 2
}
